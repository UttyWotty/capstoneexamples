{
 "cells": [
  {
   "cell_type": "markdown",
   "metadata": {},
   "source": [
    "Finding the nth decimal in PI number(up to 50)"
   ]
  },
  {
   "cell_type": "code",
   "execution_count": 1,
   "metadata": {},
   "outputs": [
    {
     "name": "stdout",
     "output_type": "stream",
     "text": [
      "pi to 48 decimal places is 3.141592653589793238462643383279502884197169399375\n"
     ]
    }
   ],
   "source": [
    "import mpmath \n",
    "\n",
    "def calculate_pi(n):\n",
    "\n",
    "    mpmath.mp.dps = n +1 \n",
    "\n",
    "    pi_value = mpmath.pi\n",
    "\n",
    "    return str(pi_value)\n",
    "#input: lets enter the number of decimal places we want to calculate pi to  \n",
    "\n",
    "n = int(input('please enter the number of decimal places you what for pi: '))\n",
    "if n > 50:\n",
    "    print('please enter a number less than 50')\n",
    "    n= 50\n",
    "    \n",
    "result = calculate_pi(n)\n",
    "print(f\"pi to {n} decimal places is {result}\")  #output: pi to n decimal places is 3.14159265....\n",
    "\n",
    "\n",
    "\n",
    "\n",
    "\n",
    "\n"
   ]
  },
  {
   "cell_type": "code",
   "execution_count": null,
   "metadata": {},
   "outputs": [],
   "source": []
  },
  {
   "cell_type": "code",
   "execution_count": null,
   "metadata": {},
   "outputs": [],
   "source": []
  },
  {
   "cell_type": "code",
   "execution_count": null,
   "metadata": {},
   "outputs": [],
   "source": []
  }
 ],
 "metadata": {
  "kernelspec": {
   "display_name": "utku-env",
   "language": "python",
   "name": "python3"
  },
  "language_info": {
   "codemirror_mode": {
    "name": "ipython",
    "version": 3
   },
   "file_extension": ".py",
   "mimetype": "text/x-python",
   "name": "python",
   "nbconvert_exporter": "python",
   "pygments_lexer": "ipython3",
   "version": "3.10.8"
  }
 },
 "nbformat": 4,
 "nbformat_minor": 2
}
