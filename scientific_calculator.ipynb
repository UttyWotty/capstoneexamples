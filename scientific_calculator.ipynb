{
 "cells": [
  {
   "cell_type": "code",
   "execution_count": 1,
   "metadata": {},
   "outputs": [
    {
     "name": "stderr",
     "output_type": "stream",
     "text": [
      "2024-12-30 14:06:27.238 python[47037:786193] +[IMKClient subclass]: chose IMKClient_Modern\n",
      "2024-12-30 14:06:27.238 python[47037:786193] +[IMKInputSession subclass]: chose IMKInputSession_Modern\n"
     ]
    }
   ],
   "source": [
    "import tkinter as tk\n",
    "import math\n",
    "\n",
    "# Function to evaluate expressions\n",
    "def evaluate_expression(expression):\n",
    "    try:\n",
    "        result = str(eval(expression))\n",
    "        entry_screen.delete(0, tk.END)\n",
    "        entry_screen.insert(tk.END, result)\n",
    "    except Exception as e:\n",
    "        entry_screen.delete(0, tk.END)\n",
    "        entry_screen.insert(tk.END, \"Error\")\n",
    "\n",
    "# Function to update the entry screen\n",
    "def update_screen(value):\n",
    "    current = entry_screen.get()\n",
    "    entry_screen.delete(0, tk.END)\n",
    "    entry_screen.insert(tk.END, current + value)\n",
    "\n",
    "# Function to clear the entry screen\n",
    "def clear_screen():\n",
    "    entry_screen.delete(0, tk.END)\n",
    "\n",
    "# Creating the main window\n",
    "root = tk.Tk()\n",
    "root.title(\"Scientific Calculator\")\n",
    "root.configure(bg='black')  # Set background color of the window\n",
    "\n",
    "# Create an entry widget to display the current expression\n",
    "entry_screen = tk.Entry(root, width=25, font=(\"Arial\", 20), bg=\"black\", fg=\"white\", borderwidth=2, relief=\"solid\")\n",
    "entry_screen.grid(row=0, column=0, columnspan=4)\n",
    "\n",
    "# Button definitions\n",
    "buttons = [\n",
    "    ('7', 1, 0), ('8', 1, 1), ('9', 1, 2), ('/', 1, 3),\n",
    "    ('4', 2, 0), ('5', 2, 1), ('6', 2, 2), ('*', 2, 3),\n",
    "    ('1', 3, 0), ('2', 3, 1), ('3', 3, 2), ('-', 3, 3),\n",
    "    ('0', 4, 0), ('.', 4, 1), ('+', 4, 2), ('=', 4, 3),\n",
    "    ('C', 5, 0), ('(', 5, 1), (')', 5, 2), ('sqrt', 5, 3),\n",
    "    ('sin', 6, 0), ('cos', 6, 1), ('tan', 6, 2), ('pi', 6, 3)\n",
    "]\n",
    "\n",
    "# Adding buttons to the grid\n",
    "for (text, row, col) in buttons:\n",
    "    if text == '=':\n",
    "        button = tk.Button(root, text=text, width=5, height=2, font=(\"Arial\", 15), bg=\"lightblue\", command=lambda: evaluate_expression(entry_screen.get()))\n",
    "    elif text == 'C':\n",
    "        button = tk.Button(root, text=text, width=5, height=2, font=(\"Arial\", 15), bg=\"lightcoral\", command=clear_screen)\n",
    "    elif text == 'sqrt':\n",
    "        button = tk.Button(root, text=text, width=5, height=2, font=(\"Arial\", 15), bg=\"lightgreen\", command=lambda: update_screen('sqrt('))\n",
    "    elif text == 'pi':\n",
    "        button = tk.Button(root, text=text, width=5, height=2, font=(\"Arial\", 15), bg=\"lightyellow\", command=lambda: update_screen(str(math.pi)))\n",
    "    else:\n",
    "        button = tk.Button(root, text=text, width=5, height=2, font=(\"Arial\", 15), bg=\"lightgray\", command=lambda text=text: update_screen(text))\n",
    "\n",
    "    button.grid(row=row, column=col, padx=5, pady=5)\n",
    "\n",
    "# Start the GUI\n",
    "root.mainloop()\n"
   ]
  }
 ],
 "metadata": {
  "kernelspec": {
   "display_name": "utku-env",
   "language": "python",
   "name": "python3"
  },
  "language_info": {
   "codemirror_mode": {
    "name": "ipython",
    "version": 3
   },
   "file_extension": ".py",
   "mimetype": "text/x-python",
   "name": "python",
   "nbconvert_exporter": "python",
   "pygments_lexer": "ipython3",
   "version": "3.10.8"
  }
 },
 "nbformat": 4,
 "nbformat_minor": 2
}
