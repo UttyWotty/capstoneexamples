{
 "cells": [
  {
   "cell_type": "code",
   "execution_count": null,
   "metadata": {},
   "outputs": [
    {
     "name": "stderr",
     "output_type": "stream",
     "text": [
      "2024-12-30 14:06:41.502 python[47150:786908] +[IMKClient subclass]: chose IMKClient_Modern\n",
      "2024-12-30 14:06:41.502 python[47150:786908] +[IMKInputSession subclass]: chose IMKInputSession_Modern\n"
     ]
    },
    {
     "ename": "",
     "evalue": "",
     "output_type": "error",
     "traceback": [
      "\u001b[1;31mThe Kernel crashed while executing code in the current cell or a previous cell. \n",
      "\u001b[1;31mPlease review the code in the cell(s) to identify a possible cause of the failure. \n",
      "\u001b[1;31mClick <a href='https://aka.ms/vscodeJupyterKernelCrash'>here</a> for more info. \n",
      "\u001b[1;31mView Jupyter <a href='command:jupyter.viewOutput'>log</a> for further details."
     ]
    }
   ],
   "source": [
    "import tkinter as tk\n",
    "from tkinter import messagebox\n",
    "\n",
    "def prime_factors(n):\n",
    "    factors = []\n",
    "    # Handling 2 separately as usual (even number)\n",
    "    while n % 2 == 0:\n",
    "        factors.append(2)\n",
    "        n //= 2\n",
    "    \n",
    "    # checking odd numbers(starting from 3)\n",
    "    for i in range(3, int(n**0.5) + 1, 2):\n",
    "        while n % i == 0:\n",
    "            factors.append(i)\n",
    "            n //= i\n",
    "    \n",
    "    # If n is a prime number and bigger than 2\n",
    "    if n > 2:\n",
    "        factors.append(n)\n",
    "    \n",
    "    return factors\n",
    "\n",
    "def show_prime_factors():\n",
    "    try:\n",
    "        number = int(entry.get())  # Getting the number from the entry widget\n",
    "        if number <= 1:\n",
    "            messagebox.showwarning(\"Input Error\", \"Please enter a number greater than 1.\")\n",
    "        else:\n",
    "            factors = prime_factors(number)\n",
    "            result_label.config(text=f\"Prime factors: {', '.join(map(str, factors))}\")\n",
    "    except ValueError:\n",
    "        messagebox.showerror(\"Input Error\", \"Please enter a valid integer.\")\n",
    "\n",
    "# Creating the main window\n",
    "root = tk.Tk()\n",
    "root.title(\"Prime Factorization\")\n",
    "\n",
    "# Creating a label, entry field, and button\n",
    "label = tk.Label(root, text=\"Enter a number to find its prime factors:\")\n",
    "label.pack(pady=10)\n",
    "\n",
    "entry = tk.Entry(root)\n",
    "entry.pack(pady=5)\n",
    "\n",
    "calculate_button = tk.Button(root, text=\"Find Prime Factors\", command=show_prime_factors)\n",
    "calculate_button.pack(pady=10)\n",
    "\n",
    "# Label to display the result\n",
    "result_label = tk.Label(root, text=\"Prime factors will be shown here.\")\n",
    "result_label.pack(pady=10)\n",
    "\n",
    "# Start the GUI\n",
    "root.mainloop()\n"
   ]
  }
 ],
 "metadata": {
  "kernelspec": {
   "display_name": "utku-env",
   "language": "python",
   "name": "python3"
  },
  "language_info": {
   "codemirror_mode": {
    "name": "ipython",
    "version": 3
   },
   "file_extension": ".py",
   "mimetype": "text/x-python",
   "name": "python",
   "nbconvert_exporter": "python",
   "pygments_lexer": "ipython3",
   "version": "3.10.8"
  }
 },
 "nbformat": 4,
 "nbformat_minor": 2
}
