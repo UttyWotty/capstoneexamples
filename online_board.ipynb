{
 "cells": [
  {
   "cell_type": "markdown",
   "metadata": {},
   "source": [
    "ONLINE BOARD"
   ]
  },
  {
   "cell_type": "code",
   "execution_count": 4,
   "metadata": {},
   "outputs": [
    {
     "ename": "",
     "evalue": "",
     "output_type": "error",
     "traceback": [
      "\u001b[1;31mThe Kernel crashed while executing code in the current cell or a previous cell. \n",
      "\u001b[1;31mPlease review the code in the cell(s) to identify a possible cause of the failure. \n",
      "\u001b[1;31mClick <a href='https://aka.ms/vscodeJupyterKernelCrash'>here</a> for more info. \n",
      "\u001b[1;31mView Jupyter <a href='command:jupyter.viewOutput'>log</a> for further details."
     ]
    }
   ],
   "source": [
    "import tkinter as tk # Import the Tkinter module\n",
    "\n",
    "# Set up the main window\n",
    "root = tk.Tk() # Create the main window\n",
    "root.title(\"Online Whiteboard\") # Set the title of the window\n",
    "\n",
    "# Create the canvas to draw on\n",
    "canvas = tk.Canvas(root, width=800, height=600, bg=\"white\") # Create a canvas widget, with a white background\n",
    "canvas.pack() # Add the canvas to the main window\n",
    "\n",
    "# Default drawing color and brush shape\n",
    "drawing_color = \"black\"  # Initial drawing color\n",
    "brush_shape = \"circle\"  # Initial brush shape (can be circle, square, or line)\n",
    "\n",
    "# Function to handle drawing on the canvas\n",
    "def draw(event): # Function to draw on the canvas\n",
    "    x1, y1 = (event.x - 10), (event.y - 10) # Get the x and y coordinates of the mouse\n",
    "    x2, y2 = (event.x + 10), (event.y + 10) # Get the x and y coordinates of the mouse\n",
    "\n",
    "    if brush_shape == \"circle\": # If the brush shape is a circle\n",
    "        canvas.create_oval(x1, y1, x2, y2, fill=drawing_color, width=2)\n",
    "    elif brush_shape == \"square\":\n",
    "        canvas.create_rectangle(x1, y1, x2, y2, fill=drawing_color, width=2)\n",
    "    elif brush_shape == \"line\":\n",
    "        canvas.create_line(x1, y1, x2, y2, fill=drawing_color, width=2)\n",
    "\n",
    "# Function to change drawing color\n",
    "def change_color(color):\n",
    "    global drawing_color\n",
    "    drawing_color = color\n",
    "\n",
    "# Function to change brush shape\n",
    "def change_brush_shape(shape):\n",
    "    global brush_shape\n",
    "    brush_shape = shape\n",
    "\n",
    "# Function to clear the canvas\n",
    "def clear_canvas():\n",
    "    canvas.delete(\"all\")\n",
    "\n",
    "# Buttons to choose colors\n",
    "color_frame = tk.Frame(root)\n",
    "color_frame.pack()\n",
    "\n",
    "button_black = tk.Button(color_frame, text=\"Black\", command=lambda: change_color(\"black\"))\n",
    "button_black.pack(side=\"left\", padx=5)\n",
    "\n",
    "button_red = tk.Button(color_frame, text=\"Red\", command=lambda: change_color(\"red\"))\n",
    "button_red.pack(side=\"left\", padx=5)\n",
    "\n",
    "button_blue = tk.Button(color_frame, text=\"Blue\", command=lambda: change_color(\"blue\"))\n",
    "button_blue.pack(side=\"left\", padx=5)\n",
    "\n",
    "button_green = tk.Button(color_frame, text=\"Green\", command=lambda: change_color(\"green\"))\n",
    "button_green.pack(side=\"left\", padx=5)\n",
    "\n",
    "# Buttons to change brush shapes\n",
    "brush_frame = tk.Frame(root)\n",
    "brush_frame.pack(pady=10)\n",
    "\n",
    "button_circle = tk.Button(brush_frame, text=\"Circle\", command=lambda: change_brush_shape(\"circle\"))\n",
    "button_circle.pack(side=\"left\", padx=5)\n",
    "\n",
    "button_square = tk.Button(brush_frame, text=\"Square\", command=lambda: change_brush_shape(\"square\"))\n",
    "button_square.pack(side=\"left\", padx=5)\n",
    "\n",
    "button_line = tk.Button(brush_frame, text=\"Line\", command=lambda: change_brush_shape(\"line\"))\n",
    "button_line.pack(side=\"left\", padx=5)\n",
    "\n",
    "# Clear button\n",
    "clear_button = tk.Button(root, text=\"Clear\", command=clear_canvas)\n",
    "clear_button.pack(pady=20)\n",
    "\n",
    "# Bind the mouse drag event to the draw function\n",
    "canvas.bind(\"<B1-Motion>\", draw)\n",
    "\n",
    "# Start the GUI\n",
    "root.mainloop()\n"
   ]
  }
 ],
 "metadata": {
  "kernelspec": {
   "display_name": "utku-env",
   "language": "python",
   "name": "python3"
  },
  "language_info": {
   "codemirror_mode": {
    "name": "ipython",
    "version": 3
   },
   "file_extension": ".py",
   "mimetype": "text/x-python",
   "name": "python",
   "nbconvert_exporter": "python",
   "pygments_lexer": "ipython3",
   "version": "3.10.8"
  }
 },
 "nbformat": 4,
 "nbformat_minor": 2
}
