{
 "cells": [
  {
   "cell_type": "code",
   "execution_count": 18,
   "metadata": {},
   "outputs": [
    {
     "name": "stdout",
     "output_type": "stream",
     "text": [
      "[]\n"
     ]
    }
   ],
   "source": [
    "\"\"\"Requirements:\n",
    "TV Show Search: Scrape or access TV guide websites to search for shows by name, date, and time.\n",
    "Database: Store the shows, times, and channels in a database for easy access.\n",
    "Email Reminder: Send an email reminder when the show is about to start.\n",
    "\"\"\"\n",
    "\n",
    "import requests\n",
    "from bs4 import BeautifulSoup\n",
    "\n",
    "def get_tv_show_schedule(show_name):\n",
    "    url = f'https://www.tvguide.com/search/?searchterm={show_name}'\n",
    "    response = requests.get(url)\n",
    "    soup = BeautifulSoup(response.text, 'html.parser')\n",
    "    \n",
    "    # Parse relevant info from the page, like show times and channels\n",
    "    schedule = []\n",
    "    for show in soup.find_all('div', class_='show-time'):\n",
    "        time = show.find('span', class_='time').text\n",
    "        channel = show.find('span', class_='channel').text\n",
    "        schedule.append({'time': time, 'channel': channel})\n",
    "    \n",
    "    return schedule\n",
    "\n",
    "# Example usage:\n",
    "show_schedule = get_tv_show_schedule('Game of Thrones')\n",
    "print(show_schedule)\n"
   ]
  },
  {
   "cell_type": "markdown",
   "metadata": {},
   "source": [
    "Create a database connection"
   ]
  },
  {
   "cell_type": "code",
   "execution_count": 17,
   "metadata": {},
   "outputs": [],
   "source": [
    "import sqlite3\n",
    "\n",
    "\n",
    "conn = sqlite3.connect('tv_show_tracker.db')\n",
    "cursor = conn.cursor()\n",
    "\n",
    "# Create a table to store show schedules\n",
    "cursor.execute('''\n",
    "CREATE TABLE IF NOT EXISTS show_schedule (\n",
    "    id INTEGER PRIMARY KEY AUTOINCREMENT,\n",
    "    show_name TEXT,\n",
    "    show_time TEXT,\n",
    "    show_channel TEXT\n",
    ");\n",
    "''')\n",
    "\n",
    "conn.commit()\n",
    "conn.close()\n"
   ]
  },
  {
   "cell_type": "code",
   "execution_count": 3,
   "metadata": {},
   "outputs": [],
   "source": [
    "def save_schedule_to_db(show_name, show_time, show_channel):\n",
    "    conn = sqlite3.connect('tv_show_tracker.db')\n",
    "    cursor = conn.cursor()\n",
    "\n",
    "    cursor.execute('''\n",
    "    INSERT INTO show_schedule (show_name, show_time, show_channel)\n",
    "    VALUES (?, ?, ?)\n",
    "    ''', (show_name, show_time, show_channel))\n",
    "\n",
    "    conn.commit()\n",
    "    conn.close()\n",
    "\n",
    "# Example usage:\n",
    "for show in show_schedule:\n",
    "    save_schedule_to_db('Game of Thrones', show['time'], show['channel'])\n"
   ]
  },
  {
   "cell_type": "code",
   "execution_count": 4,
   "metadata": {},
   "outputs": [
    {
     "name": "stdout",
     "output_type": "stream",
     "text": [
      "Failed to send email: (535, b'5.7.8 Username and Password not accepted. For more information, go to\\n5.7.8  https://support.google.com/mail/?p=BadCredentials d9443c01a7336-219dc9f51b5sm173085425ad.184 - gsmtp')\n"
     ]
    }
   ],
   "source": [
    "import smtplib\n",
    "from email.mime.text import MIMEText\n",
    "from email.mime.multipart import MIMEMultipart\n",
    "\n",
    "def send_email(reminder_to, subject, body):\n",
    "    sender_email = \"your_email@example.com\"\n",
    "    receiver_email = reminder_to\n",
    "    password = \"your_email_password\"\n",
    "\n",
    "    msg = MIMEMultipart()\n",
    "    msg['From'] = sender_email\n",
    "    msg['To'] = receiver_email\n",
    "    msg['Subject'] = subject\n",
    "\n",
    "    msg.attach(MIMEText(body, 'plain'))\n",
    "\n",
    "    try:\n",
    "        server = smtplib.SMTP('smtp.gmail.com', 587)  # Use Gmail's SMTP server\n",
    "        server.starttls()\n",
    "        server.login(sender_email, password)\n",
    "        text = msg.as_string()\n",
    "        server.sendmail(sender_email, receiver_email, text)\n",
    "        server.quit()\n",
    "        print(\"Email sent successfully!\")\n",
    "    except Exception as e:\n",
    "        print(f\"Failed to send email: {e}\")\n",
    "\n",
    "# Example usage:\n",
    "send_email('recipient@example.com', 'Reminder: Game of Thrones', 'Your show is about to start on HBO!')\n"
   ]
  },
  {
   "cell_type": "code",
   "execution_count": 5,
   "metadata": {},
   "outputs": [
    {
     "ename": "KeyboardInterrupt",
     "evalue": "",
     "output_type": "error",
     "traceback": [
      "\u001b[0;31m---------------------------------------------------------------------------\u001b[0m",
      "\u001b[0;31mKeyboardInterrupt\u001b[0m                         Traceback (most recent call last)",
      "Cell \u001b[0;32mIn[5], line 28\u001b[0m\n\u001b[1;32m     26\u001b[0m \u001b[38;5;28;01mwhile\u001b[39;00m \u001b[38;5;28;01mTrue\u001b[39;00m:\n\u001b[1;32m     27\u001b[0m     schedule\u001b[38;5;241m.\u001b[39mrun_pending()\n\u001b[0;32m---> 28\u001b[0m     \u001b[43mtime\u001b[49m\u001b[38;5;241;43m.\u001b[39;49m\u001b[43msleep\u001b[49m\u001b[43m(\u001b[49m\u001b[38;5;241;43m1\u001b[39;49m\u001b[43m)\u001b[49m\n",
      "\u001b[0;31mKeyboardInterrupt\u001b[0m: "
     ]
    }
   ],
   "source": [
    "import schedule\n",
    "import time\n",
    "\n",
    "def check_and_send_reminders():\n",
    "    # Fetch shows coming up within the next hour (example)\n",
    "    conn = sqlite3.connect('tv_show_tracker.db')\n",
    "    cursor = conn.cursor()\n",
    "\n",
    "    cursor.execute('''\n",
    "    SELECT * FROM show_schedule WHERE show_time BETWEEN CURRENT_TIME AND CURRENT_TIME + INTERVAL 1 HOUR;\n",
    "    ''')\n",
    "\n",
    "    shows = cursor.fetchall()\n",
    "\n",
    "    for show in shows:\n",
    "        show_name = show[1]\n",
    "        show_time = show[2]\n",
    "        show_channel = show[3]\n",
    "        send_email('recipient@example.com', f'Reminder: {show_name}', f'Your show {show_name} is about to start on {show_channel} at {show_time}!')\n",
    "\n",
    "    conn.close()\n",
    "\n",
    "# Schedule the check every 30 minutes\n",
    "schedule.every(30).minutes.do(check_and_send_reminders)\n",
    "\n",
    "while True:\n",
    "    schedule.run_pending()\n",
    "    time.sleep(1)\n"
   ]
  }
 ],
 "metadata": {
  "kernelspec": {
   "display_name": "utku-env",
   "language": "python",
   "name": "python3"
  },
  "language_info": {
   "codemirror_mode": {
    "name": "ipython",
    "version": 3
   },
   "file_extension": ".py",
   "mimetype": "text/x-python",
   "name": "python",
   "nbconvert_exporter": "python",
   "pygments_lexer": "ipython3",
   "version": "3.10.8"
  }
 },
 "nbformat": 4,
 "nbformat_minor": 2
}
