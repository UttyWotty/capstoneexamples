{
 "cells": [
  {
   "cell_type": "code",
   "execution_count": 10,
   "metadata": {},
   "outputs": [
    {
     "name": "stdout",
     "output_type": "stream",
     "text": [
      "X-Frame-Options: Not Available\n",
      "Content-Type: text/html; charset=UTF-8\n",
      "Content-Length: Not Available\n",
      "Date: Mon, 30 Dec 2024 05:48:58 GMT\n",
      "Server: cloudflare\n",
      "Cache-Control: max-age=60, no-store\n",
      "Expires: Mon, 30 Dec 2024 05:49:35 GMT\n",
      "P3P: Not Available\n",
      "Set-Cookie: Not Available\n",
      "Content-Encoding: br\n",
      "X-XSS-Protection: Not Available\n",
      "X-Content-Type-Options: Not Available\n",
      "Alt-Svc: Not Available\n",
      "Connection: keep-alive\n",
      "Transfer-Encoding: chunked\n",
      "Vary: Accept-Encoding\n",
      "Accept-Ranges: Not Available\n"
     ]
    }
   ],
   "source": [
    "import requests\n",
    "\n",
    "# Define the website URL\n",
    "url = 'https://www.odatv.com'\n",
    "\n",
    "# Make the HTTP GET request\n",
    "response = requests.get(url)\n",
    "\n",
    "# List of headers to extract\n",
    "headers_to_extract = [\n",
    "    'X-Frame-Options', 'Content-Type', 'Content-Length', 'Date',\n",
    "    'Server', 'Cache-Control', 'Expires', 'P3P', 'Set-Cookie',\n",
    "    'Content-Encoding', 'X-XSS-Protection', 'X-Content-Type-Options',\n",
    "    'Alt-Svc', 'Connection', 'Transfer-Encoding', 'Vary', 'Accept-Ranges'\n",
    "]\n",
    "\n",
    "# Print available headers safely\n",
    "for header in headers_to_extract:\n",
    "    print(f\"{header}: {response.headers.get(header, 'Not Available')}\")\n"
   ]
  },
  {
   "cell_type": "code",
   "execution_count": 14,
   "metadata": {},
   "outputs": [
    {
     "name": "stdout",
     "output_type": "stream",
     "text": [
      "The IP address of www.google.com is: 142.250.206.196\n"
     ]
    }
   ],
   "source": [
    "import socket\n",
    "\n",
    "# Get the IP address of a website then chekc the address below\n",
    "domain = 'www.google.com'  # example website\n",
    "ip_address = socket.gethostbyname(domain)\n",
    "print(f\"The IP address of {domain} is: {ip_address}\")\n"
   ]
  },
  {
   "cell_type": "code",
   "execution_count": 25,
   "metadata": {},
   "outputs": [
    {
     "name": "stdout",
     "output_type": "stream",
     "text": [
      "IP Address Lookup Tool\n",
      "1. Enter IP Address Manually\n",
      "2. Use My Current IP Address\n",
      "\n",
      "🌍 IP Address Information:\n",
      "IP Address: 211.106.66.1\n",
      "Country: KR\n",
      "Region: Seoul\n",
      "City: Seoul\n",
      "Location (lat,long): 37.5660,126.9784\n",
      "Organization: AS4766 Korea Telecom\n"
     ]
    }
   ],
   "source": [
    "import requests\n",
    "\n",
    "# Function to fetch IP information from ipinfo.io\n",
    "def get_ip_info(ip=None):\n",
    "    try:\n",
    "        if ip:\n",
    "            url = f\"http://ipinfo.io/{ip}/json\"\n",
    "        else:\n",
    "            # Automatically get your own public IP\n",
    "            url = \"http://ipinfo.io/json\"\n",
    "        \n",
    "        response = requests.get(url)\n",
    "        data = response.json()\n",
    "        \n",
    "        if 'error' in data:\n",
    "            print(\"Error:\", data['error']['message'])\n",
    "            return\n",
    "        \n",
    "        print(\"\\n🌍 IP Address Information:\")\n",
    "        print(f\"IP Address: {data.get('ip', 'N/A')}\")\n",
    "        print(f\"Country: {data.get('country', 'N/A')}\")\n",
    "        print(f\"Region: {data.get('region', 'N/A')}\")\n",
    "        print(f\"City: {data.get('city', 'N/A')}\")\n",
    "        print(f\"Location (lat,long): {data.get('loc', 'N/A')}\")\n",
    "        print(f\"Organization: {data.get('org', 'N/A')}\")\n",
    "    \n",
    "    except requests.exceptions.RequestException as e:\n",
    "        print(\"Error connecting to the API:\", e)\n",
    "\n",
    "# Main program\n",
    "def main():\n",
    "    print(\"IP Address Lookup Tool\")\n",
    "    print(\"1. Enter IP Address Manually\")\n",
    "    print(\"2. Use My Current IP Address\")\n",
    "    \n",
    "    choice = input(\"Choose an option (1/2): \").strip()\n",
    "    \n",
    "    if choice == '1':\n",
    "        ip = input(\"Enter an IP address: \").strip()\n",
    "        get_ip_info(ip)\n",
    "    elif choice == '2':\n",
    "        get_ip_info()\n",
    "    else:\n",
    "        print(\"Invalid choice. Please enter 1 or 2.\")\n",
    "\n",
    "# Run the program\n",
    "if __name__ == \"__main__\":\n",
    "    main()\n"
   ]
  },
  {
   "cell_type": "code",
   "execution_count": 24,
   "metadata": {},
   "outputs": [
    {
     "name": "stdout",
     "output_type": "stream",
     "text": [
      "211.106.66.1\n",
      "211.106.66.1\n"
     ]
    }
   ],
   "source": [
    "import socket\n",
    "\n",
    "# if there are multiple IP addresses, this will return a list \n",
    "domain = \"yonhapnews.com\"\n",
    "ip_addresses = socket.getaddrinfo(domain, None)\n",
    "\n",
    "for ip in ip_addresses:\n",
    "    print(ip[4][0])\n"
   ]
  }
 ],
 "metadata": {
  "kernelspec": {
   "display_name": "utku-env",
   "language": "python",
   "name": "python3"
  },
  "language_info": {
   "codemirror_mode": {
    "name": "ipython",
    "version": 3
   },
   "file_extension": ".py",
   "mimetype": "text/x-python",
   "name": "python",
   "nbconvert_exporter": "python",
   "pygments_lexer": "ipython3",
   "version": "3.10.8"
  }
 },
 "nbformat": 4,
 "nbformat_minor": 2
}
