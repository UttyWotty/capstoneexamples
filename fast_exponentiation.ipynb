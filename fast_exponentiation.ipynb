{
 "cells": [
  {
   "cell_type": "code",
   "execution_count": null,
   "metadata": {},
   "outputs": [
    {
     "name": "stdout",
     "output_type": "stream",
     "text": [
      "-25^2 = 625\n"
     ]
    }
   ],
   "source": [
    "#we will add 2 numbers, first one is the base number and second one is the exponent, exponent cant be a negative number but base can be negative\n",
    "\n",
    "def fast_exponentiation(a, b):\n",
    "    result = 1\n",
    "    while b > 0:\n",
    "        if b % 2 == 1:  # If b is odd\n",
    "            result *= a\n",
    "        a *= a  # Square the base\n",
    "        b //= 2  # Integer division of b by 2\n",
    "    return result\n",
    "\n",
    "# Function to get user input and display the result\n",
    "def main():\n",
    "    try:\n",
    "        a = int(input(\"Enter the base number (a): \"))\n",
    "        b = int(input(\"Enter the exponent (b): \"))\n",
    "        \n",
    "        if b < 0:\n",
    "            print(\"Exponent should be a non-negative integer.\")\n",
    "            return\n",
    "        \n",
    "        result = fast_exponentiation(a, b)\n",
    "        print(f\"{a}^{b} = {result}\")\n",
    "    except ValueError:\n",
    "        print(\"Please enter valid integers.\")\n",
    "\n",
    "if __name__ == \"__main__\":\n",
    "    main()\n"
   ]
  },
  {
   "cell_type": "code",
   "execution_count": null,
   "metadata": {},
   "outputs": [],
   "source": []
  }
 ],
 "metadata": {
  "kernelspec": {
   "display_name": "utku-env",
   "language": "python",
   "name": "python3"
  },
  "language_info": {
   "codemirror_mode": {
    "name": "ipython",
    "version": 3
   },
   "file_extension": ".py",
   "mimetype": "text/x-python",
   "name": "python",
   "nbconvert_exporter": "python",
   "pygments_lexer": "ipython3",
   "version": "3.10.8"
  }
 },
 "nbformat": 4,
 "nbformat_minor": 2
}
