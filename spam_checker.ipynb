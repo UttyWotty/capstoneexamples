{
 "cells": [
  {
   "cell_type": "code",
   "execution_count": null,
   "metadata": {},
   "outputs": [],
   "source": [
    "\"\"\"\n",
    "Enter CAPTCHA: You need to enter the characters that you see in the image into the input field.\n",
    "\n",
    "Validate: Click the \"Validate CAPTCHA\" button to check if the entered text matches the generated CAPTCHA.\n",
    "\"\"\""
   ]
  },
  {
   "cell_type": "code",
   "execution_count": 3,
   "metadata": {},
   "outputs": [
    {
     "ename": "",
     "evalue": "",
     "output_type": "error",
     "traceback": [
      "\u001b[1;31mThe Kernel crashed while executing code in the current cell or a previous cell. \n",
      "\u001b[1;31mPlease review the code in the cell(s) to identify a possible cause of the failure. \n",
      "\u001b[1;31mClick <a href='https://aka.ms/vscodeJupyterKernelCrash'>here</a> for more info. \n",
      "\u001b[1;31mView Jupyter <a href='command:jupyter.viewOutput'>log</a> for further details."
     ]
    }
   ],
   "source": [
    "import random #for getting random values evertime\n",
    "import string #for getting string values\n",
    "from PIL import Image, ImageDraw, ImageFont #for creating image\n",
    "import tkinter as tk \n",
    "from tkinter import messagebox\n",
    "\n",
    "# Function to generate a random string (letters + digits)\n",
    "def generate_random_string(length=6): #length of the string,we can adjust it as per our need\n",
    "    characters = string.ascii_letters + string.digits #characters to be used in the captcha\n",
    "    return ''.join(random.choice(characters) for _ in range(length)) #returning the random string\n",
    "\n",
    "# Function to create CAPTCHA image\n",
    "def create_captcha(): \n",
    "    captcha_text = generate_random_string()  # Generate random text for CAPTCHA\n",
    "    width, height = 200, 60  # Set size of the image\n",
    "    image = Image.new('RGB', (width, height), color=(255, 255, 255))  # Create new white image\n",
    "\n",
    "    draw = ImageDraw.Draw(image)  # Draw object to add text\n",
    "    \n",
    "    # Use a larger and more readable font (you can adjust the size if needed)\n",
    "    try:\n",
    "        font = ImageFont.truetype(\"arial.ttf\", 36)  # Specify a truetype font (adjust size)\n",
    "    except IOError:\n",
    "        font = ImageFont.load_default()  # Fallback to default font if arial is not available\n",
    "\n",
    "    # Set text position and color for the text\n",
    "    text_x = 30\n",
    "    text_y = 15\n",
    "    draw.text((text_x, text_y), captcha_text, fill=(random.randint(0, 255), random.randint(0, 255), random.randint(0, 255)), font=font)\n",
    "\n",
    "    # Add some noise (random lines) to make it more like a real CAPTCHA\n",
    "    for _ in range(5):\n",
    "        draw.line((random.randint(0, width), random.randint(0, height), random.randint(0, width), random.randint(0, height)), fill=(random.randint(0, 255), random.randint(0, 255), random.randint(0, 255)))\n",
    "\n",
    "    # Save and show the image\n",
    "    image.save(\"captcha_image.png\")\n",
    "    image.show()\n",
    "\n",
    "    return captcha_text\n",
    "\n",
    "# Function to check the entered CAPTCHA\n",
    "def validate_captcha():\n",
    "    entered_text = entry.get()\n",
    "    if entered_text == captcha_text:\n",
    "        messagebox.showinfo(\"Success\", \"CAPTCHA validated successfully!\")\n",
    "    else:\n",
    "        messagebox.showerror(\"Error\", \"Invalid CAPTCHA. Please try again.\")\n",
    "\n",
    "# Function to refresh CAPTCHA\n",
    "def refresh_captcha():\n",
    "    global captcha_text\n",
    "    captcha_text = create_captcha()  # Create a new CAPTCHA and update text\n",
    "    entry.delete(0, tk.END)  # Clear the input field\n",
    "\n",
    "# Create the main window\n",
    "root = tk.Tk()\n",
    "root.title(\"CAPTCHA Generator\")\n",
    "\n",
    "# Generate the initial CAPTCHA text\n",
    "captcha_text = create_captcha()\n",
    "\n",
    "# Create input field to enter CAPTCHA\n",
    "label = tk.Label(root, text=\"Enter the CAPTCHA:\")\n",
    "label.pack(pady=10)\n",
    "\n",
    "entry = tk.Entry(root)\n",
    "entry.pack(pady=10)\n",
    "\n",
    "# Button to validate the CAPTCHA\n",
    "validate_button = tk.Button(root, text=\"Validate CAPTCHA\", command=validate_captcha)\n",
    "validate_button.pack(pady=10)\n",
    "\n",
    "# Button to refresh the CAPTCHA\n",
    "refresh_button = tk.Button(root, text=\"Refresh CAPTCHA\", command=refresh_captcha)\n",
    "refresh_button.pack(pady=10)\n",
    "\n",
    "# Start the GUI\n",
    "root.mainloop()\n"
   ]
  }
 ],
 "metadata": {
  "kernelspec": {
   "display_name": "utku-env",
   "language": "python",
   "name": "python3"
  },
  "language_info": {
   "codemirror_mode": {
    "name": "ipython",
    "version": 3
   },
   "file_extension": ".py",
   "mimetype": "text/x-python",
   "name": "python",
   "nbconvert_exporter": "python",
   "pygments_lexer": "ipython3",
   "version": "3.10.8"
  }
 },
 "nbformat": 4,
 "nbformat_minor": 2
}
